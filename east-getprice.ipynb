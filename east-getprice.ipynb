{
 "cells": [
  {
   "cell_type": "code",
   "execution_count": 33,
   "metadata": {},
   "outputs": [],
   "source": [
    "import requests\n",
    "import time\n",
    "import csv\n",
    "import os"
   ]
  },
  {
   "cell_type": "code",
   "execution_count": 34,
   "metadata": {},
   "outputs": [],
   "source": [
    "HEADERS={\n",
    "\"Host\": \"push2ex.eastmoney.com\",\n",
    "\"User-Agent\": \"Mozilla/5.0 (Windows NT 10.0; Win64; x64; rv:104.0) Gecko/20100101 Firefox/104.0\",\n",
    "\"Accept\": \"*/*\",\n",
    "\"Accept-Language\": \"en-US,en;q=0.5\",\n",
    "\"Accept-Encoding\": \"gzip, deflate\",\n",
    "\"Connection\": \"keep-alive\",\n",
    "\"Referer\": \"http://quote.eastmoney.com/\",\n",
    "\"Cookie\": r\"qgqp_b_id=a04fe66d077d3a18d42e2188587ce168; HAList=ty-1-600570-%u6052%u751F%u7535%u5B50%2Cty-0-301069-%u51EF%u76DB%u65B0%u6750%2Cty-0-000063-%u4E2D%u5174%u901A%u8BAF%2Cty-1-688981-%u4E2D%u82AF%u56FD%u9645%2Cty-0-000001-%u5E73%u5B89%u94F6%u884C%2Cty-1-603927-%u4E2D%u79D1%u8F6F%2Cty-0-300618-%u5BD2%u9510%u94B4%u4E1A%2Cty-0-300168-%u4E07%u8FBE%u4FE1%u606F%2Cty-1-601258-%u5E9E%u5927%u96C6%u56E2%2Cty-1-600743-%u534E%u8FDC%u5730%u4EA7; em_hq_fls=js; emshistory=%5B%22%E8%A1%8C%E6%83%85%22%5D\",\n",
    "}\n",
    "\n",
    "s=requests.Session()\n",
    "s.headers.update(HEADERS)\n",
    "os.environ['NO_PROXY']='push2ex.eastmoney.com'"
   ]
  },
  {
   "cell_type": "code",
   "execution_count": 35,
   "metadata": {},
   "outputs": [],
   "source": [
    "def get_price(market, code):\n",
    "    timestamp_end=int(time.time()*1000)\n",
    "    timestamp_start=timestamp_end-1\n",
    "    url=f'http://push2ex.eastmoney.com/getStockFenShi?pagesize=1&ut=7eea3edcaed734bea9cbfc24409ed989&dpt=wzfscj&pageindex=0&sort=2&ft=1&cb=jQuery351015686815628587114_{timestamp_start}&code={code}&market={market}&_={timestamp_end}'\n",
    "    # print(url)\n",
    "    response=eval(s.get(url).text[42:-2])\n",
    "    preclose=response['data']['cp']\n",
    "    lastprice=response['data']['data'][0]['p']\n",
    "    # lastvolume=response['data']['data'][0]['v']\n",
    "    f3=round(100*(lastprice/preclose-1), 2)\n",
    "    return lastprice, f3\n"
   ]
  },
  {
   "cell_type": "code",
   "execution_count": 36,
   "metadata": {},
   "outputs": [],
   "source": [
    "def get_stockfile(stock_file):\n",
    "    price_list=[]\n",
    "    with open(stock_file,'r',encoding='utf8') as file:\n",
    "        for line in file:\n",
    "            temp={}\n",
    "            code=line.rstrip('\\n')\n",
    "            if code.startswith('0') or code.startswith('3'):\n",
    "                market=0\n",
    "                secucode=f'{code}.SZ'\n",
    "            elif code.startswith('6'):\n",
    "                market=1\n",
    "                secucode=f'{code}.SH'\n",
    "            f2, f3 = get_price(market, code)\n",
    "            temp['SECUCODE']=secucode\n",
    "            temp['f2']=f2/1000\n",
    "            # temp['f3']=f3\n",
    "            price_list.append(temp)\n",
    "    return price_list"
   ]
  },
  {
   "cell_type": "code",
   "execution_count": 37,
   "metadata": {},
   "outputs": [],
   "source": [
    "def writeCSV(filename, price_list):\n",
    "    with open(filename,'w',encoding='utf8',newline='') as file:\n",
    "        # csv_writer=csv.DictWriter(file, ['SECUCODE','f2','f3'])\n",
    "        csv_writer=csv.DictWriter(file, ['SECUCODE','f2'])\n",
    "        csv_writer.writeheader()\n",
    "        csv_writer.writerows(price_list)"
   ]
  },
  {
   "cell_type": "code",
   "execution_count": 38,
   "metadata": {},
   "outputs": [],
   "source": [
    "price_list=get_stockfile('stocks.txt')\n",
    "writeCSV(\"eastmoney_price_3s.csv\",price_list)"
   ]
  },
  {
   "cell_type": "code",
   "execution_count": null,
   "metadata": {},
   "outputs": [],
   "source": []
  }
 ],
 "metadata": {
  "kernelspec": {
   "display_name": "Python 3.9.12 ('jupy')",
   "language": "python",
   "name": "python3"
  },
  "language_info": {
   "codemirror_mode": {
    "name": "ipython",
    "version": 3
   },
   "file_extension": ".py",
   "mimetype": "text/x-python",
   "name": "python",
   "nbconvert_exporter": "python",
   "pygments_lexer": "ipython3",
   "version": "3.9.12"
  },
  "orig_nbformat": 4,
  "vscode": {
   "interpreter": {
    "hash": "3bc0c700ef09c658f5676f2dbc7f80b314092845c49b4e8f9f78dd49b4097fcb"
   }
  }
 },
 "nbformat": 4,
 "nbformat_minor": 2
}
